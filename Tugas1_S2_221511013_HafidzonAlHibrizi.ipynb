{
  "cells": [
    {
      "cell_type": "markdown",
      "metadata": {
        "id": "FaRxUUhoRE09"
      },
      "source": [
        "# Intro\n",
        "File (CSV) I/O pada Python bertujuan untuk melatih dan memberikan wawasan kepada pembelajar agar bisa memahami penggunaan operasi read, find, insert, update dan delete pada file CSV.\n",
        "\n",
        "File CSV yang digunakan pada latihan ini bersumber dari studi kasus HR pada Oracle yang sudah dikonversi dalam format CSV.\n",
        "\n",
        "Latihan ini disajikan sebagai pengenalan dasar sebelum pembelajar menggunakan DBMS (Database Management System). Harapannya pembelajar memiliki pengalaman melakukan pemrosesan file secara langsung, sebelum dimudahkan oleh operasi-operasi yang telah disediakan oleh DBMS untuk memproses data tabular.\n",
        "\n",
        "Pada latihan ini terdapat 10 instruksi yang dapat dikerjakan oleh pembelajar, dan harus menyesuaikan dengan output yang telah disediakan. Pembelajar tidak diperkenankan menggunakan module selain `csv`."
      ]
    },
    {
      "cell_type": "markdown",
      "metadata": {
        "id": "tL4IIe9jUW3J"
      },
      "source": [
        "# Import Module\n",
        "Module CSV digunakan untuk membaca file CSV.\n",
        "\n",
        "Module Drive digunakan untuk memuat dan meminta izin mengakses direktori dan file pada Google Drive."
      ]
    },
    {
      "cell_type": "code",
      "execution_count": null,
      "metadata": {
        "id": "mVD2QW8omNhO",
        "colab": {
          "base_uri": "https://localhost:8080/"
        },
        "outputId": "cb2dcb68-baf2-4d7a-fa36-2adaecfbe973"
      },
      "outputs": [
        {
          "output_type": "stream",
          "name": "stdout",
          "text": [
            "Mounted at /content/drive\n"
          ]
        }
      ],
      "source": [
        "import csv\n",
        "from google.colab import drive\n",
        "drive.mount('/content/drive')"
      ]
    },
    {
      "cell_type": "markdown",
      "metadata": {
        "id": "fQsOzRsQU_Sf"
      },
      "source": [
        "# Menentukan Path Direktori\n",
        "Mempersiapkan path direktori yang berisikan kumpulan file CSV pada variable `csv_path`"
      ]
    },
    {
      "cell_type": "code",
      "execution_count": null,
      "metadata": {
        "id": "gjxhf7D-TjY_"
      },
      "outputs": [],
      "source": [
        "# Sesuaikan path direktori masing-masing\n",
        "csv_path = '/content/drive/MyDrive/CSV/'"
      ]
    },
    {
      "cell_type": "markdown",
      "metadata": {
        "id": "QQTz54TdVam_"
      },
      "source": [
        "# Procedure Read File\n",
        "Pada procedure `read_file` berfungsi untuk membaca file CSV dan menampilkan seluruh isi dari file CSV yang dipilih.\n",
        "\n",
        "Procedure ini masih memiliki keterbatasan jumlah kolom yang dapat ditampilkan."
      ]
    },
    {
      "cell_type": "code",
      "execution_count": null,
      "metadata": {
        "id": "uz1KHBpnQMPO"
      },
      "outputs": [],
      "source": [
        "def read_file(csv_file_name):\n",
        "  with open(csv_path + csv_file_name, mode='r') as csv_file:\n",
        "      csv_reader = csv.reader(csv_file, delimiter=',')\n",
        "      line_count = 0\n",
        "      for row in csv_reader:\n",
        "          if line_count == 0:\n",
        "              print(f'Column names:')\n",
        "          print(f'{row[0]}, {row[1]}, {row[2]}')\n",
        "          line_count += 1\n",
        "      print(f'Processed {line_count} lines include header.')\n",
        "  csv_file.close()"
      ]
    },
    {
      "cell_type": "markdown",
      "metadata": {
        "id": "wczIff1HWtb-"
      },
      "source": [
        "Memanggil procedure `read_file` untuk membaca file `countries.csv` yang terdiri dari 3 kolom."
      ]
    },
    {
      "cell_type": "code",
      "execution_count": null,
      "metadata": {
        "colab": {
          "base_uri": "https://localhost:8080/"
        },
        "id": "sUXV9jsuWrNq",
        "outputId": "7c3e982b-ab7e-4752-cd82-5c8064a53932"
      },
      "outputs": [
        {
          "output_type": "stream",
          "name": "stdout",
          "text": [
            "Column names:\n",
            "country_id, country_name, region_id\n",
            "AR, Argentina, 2\n",
            "AU, Australia, 3\n",
            "BE, Belgium, 1\n",
            "BR, Brazil, 2\n",
            "CA, Canada, 2\n",
            "CH, Switzerland, 1\n",
            "CN, China, 3\n",
            "DE, Germany, 1\n",
            "DK, Denmark, 1\n",
            "EG, Egypt, 4\n",
            "FR, France, 1\n",
            "IL, Israel, 4\n",
            "IN, India, 3\n",
            "IT, Italy, 1\n",
            "JP, Japan, 3\n",
            "KW, Kuwait, 4\n",
            "ML, Malaysia, 3\n",
            "MX, Mexico, 2\n",
            "NG, Nigeria, 4\n",
            "NL, Netherlands, 1\n",
            "SG, Singapore, 3\n",
            "UK, 'United Kingdom', 1\n",
            "US, 'United States of America', 2\n",
            "ZM, Zambia, 4\n",
            "ZW, Zimbabwe, 4\n",
            "Processed 26 lines include header.\n"
          ]
        }
      ],
      "source": [
        "read_file('countries.csv')"
      ]
    },
    {
      "cell_type": "markdown",
      "metadata": {
        "id": "-Qu2mm-xWOcf"
      },
      "source": [
        "**Instruksi 1:** Definisikan ulang procedure `read_file` untuk dapat **menampilkan seluruh kolom**."
      ]
    },
    {
      "cell_type": "code",
      "execution_count": null,
      "metadata": {
        "id": "d8NpIS81TmGf"
      },
      "outputs": [],
      "source": [
        "def read_file(csv_file_name):\n",
        "    with open(csv_path + csv_file_name, mode='r') as csv_file:\n",
        "      csv_reader = csv.reader(csv_file, delimiter=',')\n",
        "      line_count = 0\n",
        "      for row in csv_reader:\n",
        "          if line_count == 0:\n",
        "            print(f'Column names:')\n",
        "          print(', '.join(row))\n",
        "          line_count += 1\n",
        "      print(f'Processed {line_count} lines include header.')\n",
        "      csv_file.close()\n",
        "  # tambahkan kode sesuai instruksi di sini"
      ]
    },
    {
      "cell_type": "markdown",
      "metadata": {
        "id": "sXnFXUM8DhRR"
      },
      "source": [
        "Memanggil procedure `read_file` untuk membaca file `regions.csv` yang terdiri dari 2 kolom."
      ]
    },
    {
      "cell_type": "code",
      "execution_count": null,
      "metadata": {
        "colab": {
          "base_uri": "https://localhost:8080/"
        },
        "id": "Hh6gM7aADaeS",
        "outputId": "b7e400dc-b145-4d40-da68-5530b6b34054"
      },
      "outputs": [
        {
          "output_type": "stream",
          "name": "stdout",
          "text": [
            "Column names:\n",
            "region_id, region_name\n",
            "1, Europe\n",
            "2, Americas\n",
            "3, Asia\n",
            "4, 'Middle East and Africa'\n",
            "Processed 5 lines include header.\n"
          ]
        }
      ],
      "source": [
        "read_file('regions.csv')"
      ]
    },
    {
      "cell_type": "markdown",
      "metadata": {
        "id": "r0bD8glLYoZw"
      },
      "source": [
        "Memanggil procedure `read_file` untuk membaca file `employees.csv` yang terdiri dari 11 kolom."
      ]
    },
    {
      "cell_type": "code",
      "execution_count": null,
      "metadata": {
        "colab": {
          "base_uri": "https://localhost:8080/"
        },
        "id": "b4G78ILn0pFW",
        "outputId": "ea6d6576-705b-4506-d56b-149e4d11224a"
      },
      "outputs": [
        {
          "output_type": "stream",
          "name": "stdout",
          "text": [
            "Column names:\n",
            "employee_id, first_name, last_name, email, phone_number, hire_date, job_id, salary, commission_pct, manager_id, department_id\n",
            "100, Steven, King, SKING, 515.123.4567, 2003-06-17, AD_PRES, 24000, NULL, NULL, 90\n",
            "101, Neena, Kochhar, NKOCHHAR, 515.123.4568, 2005-09-21, AD_VP, 17000, NULL, 100, 90\n",
            "102, Lex, 'De Haan', LDEHAAN, 515.123.4569, 2001-01-13, AD_VP, 17000, NULL, 100, 90\n",
            "103, Alexander, Hunold, AHUNOLD, 590.423.4567, 2006-01-03, IT_PROG, 9000, NULL, 102, 60\n",
            "104, Bruce, Ernst, BERNST, 590.423.4568, 2007-05-21, IT_PROG, 6000, NULL, 103, 60\n",
            "105, David, Austin, DAUSTIN, 590.423.4569, 2005-06-25, IT_PROG, 4800, NULL, 103, 60\n",
            "106, Valli, Pataballa, VPATABAL, 590.423.4560, 2006-02-05, IT_PROG, 4800, NULL, 103, 60\n",
            "107, Diana, Lorentz, DLORENTZ, 590.423.5567, 2007-02-07, IT_PROG, 4200, NULL, 103, 60\n",
            "108, Nancy, Greenberg, NGREENBE, 515.124.4569, 2002-08-17, FI_MGR, 12008, NULL, 101, 100\n",
            "109, Daniel, Faviet, DFAVIET, 515.124.4169, 2002-08-16, FI_ACCOUNT, 9000, NULL, 108, 100\n",
            "110, John, Chen, JCHEN, 515.124.4269, 2005-09-28, FI_ACCOUNT, 8200, NULL, 108, 100\n",
            "111, Ismael, Sciarra, ISCIARRA, 515.124.4369, 2005-09-30, FI_ACCOUNT, 7700, NULL, 108, 100\n",
            "112, 'Jose Manuel', Urman, JMURMAN, 515.124.4469, 2006-03-07, FI_ACCOUNT, 7800, NULL, 108, 100\n",
            "113, Luis, Popp, LPOPP, 515.124.4567, 2007-12-07, FI_ACCOUNT, 6900, NULL, 108, 100\n",
            "114, Den, Raphaely, DRAPHEAL, 515.127.4561, 2002-12-07, PU_MAN, 11000, NULL, 100, 30\n",
            "115, Alexander, Khoo, AKHOO, 515.127.4562, 2003-05-18, PU_CLERK, 3100, NULL, 114, 30\n",
            "116, Shelli, Baida, SBAIDA, 515.127.4563, 2005-12-24, PU_CLERK, 2900, NULL, 114, 30\n",
            "117, Sigal, Tobias, STOBIAS, 515.127.4564, 2005-07-24, PU_CLERK, 2800, NULL, 114, 30\n",
            "118, Guy, Himuro, GHIMURO, 515.127.4565, 2006-11-15, PU_CLERK, 2600, NULL, 114, 30\n",
            "119, Karen, Colmenares, KCOLMENA, 515.127.4566, 2007-08-10, PU_CLERK, 2500, NULL, 114, 30\n",
            "120, Matthew, Weiss, MWEISS, 650.123.1234, 2004-07-18, ST_MAN, 8000, NULL, 100, 50\n",
            "121, Adam, Fripp, AFRIPP, 650.123.2234, 2005-04-10, ST_MAN, 8200, NULL, 100, 50\n",
            "122, Payam, Kaufling, PKAUFLIN, 650.123.3234, 2003-05-01, ST_MAN, 7900, NULL, 100, 50\n",
            "123, Shanta, Vollman, SVOLLMAN, 650.123.4234, 2005-10-10, ST_MAN, 6500, NULL, 100, 50\n",
            "124, Kevin, Mourgos, KMOURGOS, 650.123.5234, 2007-11-16, ST_MAN, 5800, NULL, 100, 50\n",
            "125, Julia, Nayer, JNAYER, 650.124.1214, 2005-07-16, ST_CLERK, 3200, NULL, 120, 50\n",
            "126, Irene, Mikkilineni, IMIKKILI, 650.124.1224, 2006-09-28, ST_CLERK, 2700, NULL, 120, 50\n",
            "127, James, Landry, JLANDRY, 650.124.1334, 2007-01-14, ST_CLERK, 2400, NULL, 120, 50\n",
            "128, Steven, Markle, SMARKLE, 650.124.1434, 2008-03-08, ST_CLERK, 2200, NULL, 120, 50\n",
            "129, Laura, Bissot, LBISSOT, 650.124.5234, 2005-08-20, ST_CLERK, 3300, NULL, 121, 50\n",
            "130, Mozhe, Atkinson, MATKINSO, 650.124.6234, 2005-10-30, ST_CLERK, 2800, NULL, 121, 50\n",
            "131, James, Marlow, JAMRLOW, 650.124.7234, 2005-02-16, ST_CLERK, 2500, NULL, 121, 50\n",
            "132, TJ, Olson, TJOLSON, 650.124.8234, 2007-04-10, ST_CLERK, 2100, NULL, 121, 50\n",
            "133, Jason, Mallin, JMALLIN, 650.127.1934, 2004-06-14, ST_CLERK, 3300, NULL, 122, 50\n",
            "134, Michael, Rogers, MROGERS, 650.127.1834, 2006-08-26, ST_CLERK, 2900, NULL, 122, 50\n",
            "135, Ki, Gee, KGEE, 650.127.1734, 2007-12-12, ST_CLERK, 2400, NULL, 122, 50\n",
            "136, Hazel, Philtanker, HPHILTAN, 650.127.1634, 2008-02-06, ST_CLERK, 2200, NULL, 122, 50\n",
            "137, Renske, Ladwig, RLADWIG, 650.121.1234, 2003-07-14, ST_CLERK, 3600, NULL, 123, 50\n",
            "138, Stephen, Stiles, SSTILES, 650.121.2034, 2005-10-26, ST_CLERK, 3200, NULL, 123, 50\n",
            "139, John, Seo, JSEO, 650.121.2019, 2006-02-12, ST_CLERK, 2700, NULL, 123, 50\n",
            "140, Joshua, Patel, JPATEL, 650.121.1834, 2006-04-06, ST_CLERK, 2500, NULL, 123, 50\n",
            "141, Trenna, Rajs, TRAJS, 650.121.8009, 2003-10-17, ST_CLERK, 3500, NULL, 124, 50\n",
            "142, Curtis, Davies, CDAVIES, 650.121.2994, 2005-01-29, ST_CLERK, 3100, NULL, 124, 50\n",
            "143, Randall, Matos, RMATOS, 650.121.2874, 2006-03-15, ST_CLERK, 2600, NULL, 124, 50\n",
            "144, Peter, Vargas, PVARGAS, 650.121.2004, 2006-07-09, ST_CLERK, 2500, NULL, 124, 50\n",
            "145, John, Russell, JRUSSEL, 011.44.1344.429268, 2004-10-01, SA_MAN, 14000, 0.4, 100, 80\n",
            "146, Karen, Partners, KPARTNER, 011.44.1344.467268, 2005-01-05, SA_MAN, 13500, 0.3, 100, 80\n",
            "147, Alberto, Errazuriz, AERRAZUR, 011.44.1344.429278, 2005-03-10, SA_MAN, 12000, 0.3, 100, 80\n",
            "148, Gerald, Cambrault, GCAMBRAU, 011.44.1344.619268, 2007-10-15, SA_MAN, 11000, 0.3, 100, 80\n",
            "149, Eleni, Zlotkey, EZLOTKEY, 011.44.1344.429018, 2008-01-29, SA_MAN, 10500, 0.2, 100, 80\n",
            "150, Peter, Tucker, PTUCKER, 011.44.1344.129268, 2005-01-30, SA_REP, 10000, 0.3, 145, 80\n",
            "151, David, Bernstein, DBERNSTE, 011.44.1344.345268, 2005-03-24, SA_REP, 9500, 0.25, 145, 80\n",
            "152, Peter, Hall, PHALL, 011.44.1344.478968, 2005-08-20, SA_REP, 9000, 0.25, 145, 80\n",
            "153, Christopher, Olsen, COLSEN, 011.44.1344.498718, 2006-03-30, SA_REP, 8000, 0.2, 145, 80\n",
            "154, Nanette, Cambrault, NCAMBRAU, 011.44.1344.987668, 2006-12-09, SA_REP, 7500, 0.2, 145, 80\n",
            "155, Oliver, Tuvault, OTUVAULT, 011.44.1344.486508, 2007-11-23, SA_REP, 7000, 0.15, 145, 80\n",
            "156, Janette, King, JKING, 011.44.1345.429268, 2004-01-30, SA_REP, 10000, 0.35, 146, 80\n",
            "157, Patrick, Sully, PSULLY, 011.44.1345.929268, 2004-03-04, SA_REP, 9500, 0.35, 146, 80\n",
            "158, Allan, McEwen, AMCEWEN, 011.44.1345.829268, 2004-08-01, SA_REP, 9000, 0.35, 146, 80\n",
            "159, Lindsey, Smith, LSMITH, 011.44.1345.729268, 2005-03-10, SA_REP, 8000, 0.3, 146, 80\n",
            "160, Louise, Doran, LDORAN, 011.44.1345.629268, 2005-12-15, SA_REP, 7500, 0.3, 146, 80\n",
            "161, Sarath, Sewall, SSEWALL, 011.44.1345.529268, 2006-11-03, SA_REP, 7000, 0.25, 146, 80\n",
            "162, Clara, Vishney, CVISHNEY, 011.44.1346.129268, 2005-11-11, SA_REP, 10500, 0.25, 147, 80\n",
            "163, Danielle, Greene, DGREENE, 011.44.1346.229268, 2007-03-19, SA_REP, 9500, 0.15, 147, 80\n",
            "164, Mattea, Marvins, MMARVINS, 011.44.1346.329268, 2008-01-24, SA_REP, 7200, 0.1, 147, 80\n",
            "165, David, Lee, DLEE, 011.44.1346.529268, 2008-02-23, SA_REP, 6800, 0.1, 147, 80\n",
            "166, Sundar, Ande, SANDE, 011.44.1346.629268, 2008-03-24, SA_REP, 6400, 0.1, 147, 80\n",
            "167, Amit, Banda, ABANDA, 011.44.1346.729268, 2008-04-21, SA_REP, 6200, 0.1, 147, 80\n",
            "168, Lisa, Ozer, LOZER, 011.44.1343.929268, 2005-03-11, SA_REP, 11500, 0.25, 148, 80\n",
            "169, Harrison, Bloom, HBLOOM, 011.44.1343.829268, 2006-03-23, SA_REP, 10000, 0.2, 148, 80\n",
            "170, Tayler, Fox, TFOX, 011.44.1343.729268, 2006-01-24, SA_REP, 9600, 0.2, 148, 80\n",
            "171, William, Smith, WSMITH, 011.44.1343.629268, 2007-02-23, SA_REP, 7400, 0.15, 148, 80\n",
            "172, Elizabeth, Bates, EBATES, 011.44.1343.529268, 2007-03-24, SA_REP, 7300, 0.15, 148, 80\n",
            "173, Sundita, Kumar, SKUMAR, 011.44.1343.329268, 2008-04-21, SA_REP, 6100, 0.1, 148, 80\n",
            "174, Ellen, Abel, EABEL, 011.44.1644.429267, 2004-05-11, SA_REP, 11000, 0.3, 149, 80\n",
            "175, Alyssa, Hutton, AHUTTON, 011.44.1644.429266, 2005-03-19, SA_REP, 8800, 0.25, 149, 80\n",
            "176, Jonathon, Taylor, JTAYLOR, 011.44.1644.429265, 2006-03-24, SA_REP, 8600, 0.2, 149, 80\n",
            "177, Jack, Livingston, JLIVINGS, 011.44.1644.429264, 2006-04-23, SA_REP, 8400, 0.2, 149, 80\n",
            "178, Kimberely, Grant, KGRANT, 011.44.1644.429263, 2007-05-24, SA_REP, 7000, 0.15, 149, NULL\n",
            "179, Charles, Johnson, CJOHNSON, 011.44.1644.429262, 2008-01-04, SA_REP, 6200, 0.1, 149, 80\n",
            "180, Winston, Taylor, WTAYLOR, 650.507.9876, 2006-01-24, SH_CLERK, 3200, NULL, 120, 50\n",
            "181, Jean, Fleaur, JFLEAUR, 650.507.9877, 2006-02-23, SH_CLERK, 3100, NULL, 120, 50\n",
            "182, Martha, Sullivan, MSULLIVA, 650.507.9878, 2007-06-21, SH_CLERK, 2500, NULL, 120, 50\n",
            "183, Girard, Geoni, GGEONI, 650.507.9879, 2008-02-03, SH_CLERK, 2800, NULL, 120, 50\n",
            "184, Nandita, Sarchand, NSARCHAN, 650.509.1876, 2004-01-27, SH_CLERK, 4200, NULL, 121, 50\n",
            "185, Alexis, Bull, ABULL, 650.509.2876, 2005-02-20, SH_CLERK, 4100, NULL, 121, 50\n",
            "186, Julia, Dellinger, JDELLING, 650.509.3876, 2006-06-24, SH_CLERK, 3400, NULL, 121, 50\n",
            "187, Anthony, Cabrio, ACABRIO, 650.509.4876, 2007-02-07, SH_CLERK, 3000, NULL, 121, 50\n",
            "188, Kelly, Chung, KCHUNG, 650.505.1876, 2005-06-14, SH_CLERK, 3800, NULL, 122, 50\n",
            "189, Jennifer, Dilly, JDILLY, 650.505.2876, 2005-08-13, SH_CLERK, 3600, NULL, 122, 50\n",
            "190, Timothy, Gates, TGATES, 650.505.3876, 2006-07-11, SH_CLERK, 2900, NULL, 122, 50\n",
            "191, Randall, Perkins, RPERKINS, 650.505.4876, 2007-12-19, SH_CLERK, 2500, NULL, 122, 50\n",
            "192, Sarah, Bell, SBELL, 650.501.1876, 2004-02-04, SH_CLERK, 4000, NULL, 123, 50\n",
            "193, Britney, Everett, BEVERETT, 650.501.2876, 2005-03-03, SH_CLERK, 3900, NULL, 123, 50\n",
            "194, Samuel, McCain, SMCCAIN, 650.501.3876, 2006-07-01, SH_CLERK, 3200, NULL, 123, 50\n",
            "195, Vance, Jones, VJONES, 650.501.4876, 2007-03-17, SH_CLERK, 2800, NULL, 123, 50\n",
            "196, Alana, Walsh, AWALSH, 650.507.9811, 2006-04-24, SH_CLERK, 3100, NULL, 124, 50\n",
            "197, Kevin, Feeney, KFEENEY, 650.507.9822, 2006-05-23, SH_CLERK, 3000, NULL, 124, 50\n",
            "198, Donald, OConnell, DOCONNEL, 650.507.9833, 2007-06-21, SH_CLERK, 2600, NULL, 124, 50\n",
            "199, Douglas, Grant, DGRANT, 650.507.9844, 2008-01-13, SH_CLERK, 2600, NULL, 124, 50\n",
            "200, Jennifer, Whalen, JWHALEN, 515.123.4444, 2003-09-17, AD_ASST, 4400, NULL, 101, 10\n",
            "201, Michael, Hartstein, MHARTSTE, 515.123.5555, 2004-02-17, MK_MAN, 13000, NULL, 100, 20\n",
            "202, Pat, Fay, PFAY, 603.123.6666, 2005-08-17, MK_REP, 6000, NULL, 201, 20\n",
            "203, Susan, Mavris, SMAVRIS, 515.123.7777, 2002-06-07, HR_REP, 6500, NULL, 101, 40\n",
            "204, Hermann, Baer, HBAER, 515.123.8888, 2002-06-07, PR_REP, 10000, NULL, 101, 70\n",
            "205, Shelley, Higgins, SHIGGINS, 515.123.8080, 2002-06-07, AC_MGR, 12008, NULL, 101, 110\n",
            "206, William, Gietz, WGIETZ, 515.123.8181, 2002-06-07, AC_ACCOUNT, 8300, NULL, 205, 110\n",
            "Processed 108 lines include header.\n"
          ]
        }
      ],
      "source": [
        "read_file('employees.csv')"
      ]
    },
    {
      "cell_type": "markdown",
      "metadata": {
        "id": "mDVzeAeoXpdp"
      },
      "source": [
        "**Instruksi 2:** Definisikan ulang procedure `read_file` untuk dapat **menampilkan kolom tertentu** berdasarkan indeks list (mulai dari 0) dengan menyediakan 3 parameter/argumen:\n",
        "\n",
        "1.   `csv_file_name`: Nama File CSV\n",
        "2.   `column_start`: Indeks kolom awal\n",
        "3.   `column_end`: Indeks kolom akhir\n",
        "\n"
      ]
    },
    {
      "cell_type": "code",
      "execution_count": null,
      "metadata": {
        "id": "TJP9t2PrCFkh"
      },
      "outputs": [],
      "source": [
        "def read_file(csv_file_name, column_start=0, column_end=None):\n",
        "    with open(csv_path + csv_file_name, mode='r') as csv_file:\n",
        "        csv_reader = csv.reader(csv_file, delimiter=',')\n",
        "        line_count = 0\n",
        "        for row in csv_reader:\n",
        "            if line_count == 0:\n",
        "                print(f'Column names:')\n",
        "            if column_end is None:\n",
        "                column_end = len(row)\n",
        "            selected_columns = row[column_start:column_end+1]\n",
        "            print(\", \".join(selected_columns))\n",
        "            line_count += 1\n",
        "    csv_file.close()\n",
        "#   # tambahkan kode sesuai instruksi di sini"
      ]
    },
    {
      "cell_type": "markdown",
      "metadata": {
        "id": "qbUzdUTKY5gZ"
      },
      "source": [
        "Memanggil procedure `read_file` untuk membaca file `employees.csv` dengan pemilihan kolom tertentu.\n",
        "\n",
        "Proses pemilihan kolom sama seperti melakukan slicing list pada Python."
      ]
    },
    {
      "cell_type": "code",
      "execution_count": null,
      "metadata": {
        "colab": {
          "base_uri": "https://localhost:8080/"
        },
        "id": "pdsPim_SC8jl",
        "outputId": "7bd20c42-d019-4330-9715-ef755a9d590b"
      },
      "outputs": [
        {
          "output_type": "stream",
          "name": "stdout",
          "text": [
            "Column names:\n",
            "employee_id, first_name, last_name, email\n",
            "100, Steven, King, SKING\n",
            "101, Neena, Kochhar, NKOCHHAR\n",
            "102, Lex, 'De Haan', LDEHAAN\n",
            "103, Alexander, Hunold, AHUNOLD\n",
            "104, Bruce, Ernst, BERNST\n",
            "105, David, Austin, DAUSTIN\n",
            "106, Valli, Pataballa, VPATABAL\n",
            "107, Diana, Lorentz, DLORENTZ\n",
            "108, Nancy, Greenberg, NGREENBE\n",
            "109, Daniel, Faviet, DFAVIET\n",
            "110, John, Chen, JCHEN\n",
            "111, Ismael, Sciarra, ISCIARRA\n",
            "112, 'Jose Manuel', Urman, JMURMAN\n",
            "113, Luis, Popp, LPOPP\n",
            "114, Den, Raphaely, DRAPHEAL\n",
            "115, Alexander, Khoo, AKHOO\n",
            "116, Shelli, Baida, SBAIDA\n",
            "117, Sigal, Tobias, STOBIAS\n",
            "118, Guy, Himuro, GHIMURO\n",
            "119, Karen, Colmenares, KCOLMENA\n",
            "120, Matthew, Weiss, MWEISS\n",
            "121, Adam, Fripp, AFRIPP\n",
            "122, Payam, Kaufling, PKAUFLIN\n",
            "123, Shanta, Vollman, SVOLLMAN\n",
            "124, Kevin, Mourgos, KMOURGOS\n",
            "125, Julia, Nayer, JNAYER\n",
            "126, Irene, Mikkilineni, IMIKKILI\n",
            "127, James, Landry, JLANDRY\n",
            "128, Steven, Markle, SMARKLE\n",
            "129, Laura, Bissot, LBISSOT\n",
            "130, Mozhe, Atkinson, MATKINSO\n",
            "131, James, Marlow, JAMRLOW\n",
            "132, TJ, Olson, TJOLSON\n",
            "133, Jason, Mallin, JMALLIN\n",
            "134, Michael, Rogers, MROGERS\n",
            "135, Ki, Gee, KGEE\n",
            "136, Hazel, Philtanker, HPHILTAN\n",
            "137, Renske, Ladwig, RLADWIG\n",
            "138, Stephen, Stiles, SSTILES\n",
            "139, John, Seo, JSEO\n",
            "140, Joshua, Patel, JPATEL\n",
            "141, Trenna, Rajs, TRAJS\n",
            "142, Curtis, Davies, CDAVIES\n",
            "143, Randall, Matos, RMATOS\n",
            "144, Peter, Vargas, PVARGAS\n",
            "145, John, Russell, JRUSSEL\n",
            "146, Karen, Partners, KPARTNER\n",
            "147, Alberto, Errazuriz, AERRAZUR\n",
            "148, Gerald, Cambrault, GCAMBRAU\n",
            "149, Eleni, Zlotkey, EZLOTKEY\n",
            "150, Peter, Tucker, PTUCKER\n",
            "151, David, Bernstein, DBERNSTE\n",
            "152, Peter, Hall, PHALL\n",
            "153, Christopher, Olsen, COLSEN\n",
            "154, Nanette, Cambrault, NCAMBRAU\n",
            "155, Oliver, Tuvault, OTUVAULT\n",
            "156, Janette, King, JKING\n",
            "157, Patrick, Sully, PSULLY\n",
            "158, Allan, McEwen, AMCEWEN\n",
            "159, Lindsey, Smith, LSMITH\n",
            "160, Louise, Doran, LDORAN\n",
            "161, Sarath, Sewall, SSEWALL\n",
            "162, Clara, Vishney, CVISHNEY\n",
            "163, Danielle, Greene, DGREENE\n",
            "164, Mattea, Marvins, MMARVINS\n",
            "165, David, Lee, DLEE\n",
            "166, Sundar, Ande, SANDE\n",
            "167, Amit, Banda, ABANDA\n",
            "168, Lisa, Ozer, LOZER\n",
            "169, Harrison, Bloom, HBLOOM\n",
            "170, Tayler, Fox, TFOX\n",
            "171, William, Smith, WSMITH\n",
            "172, Elizabeth, Bates, EBATES\n",
            "173, Sundita, Kumar, SKUMAR\n",
            "174, Ellen, Abel, EABEL\n",
            "175, Alyssa, Hutton, AHUTTON\n",
            "176, Jonathon, Taylor, JTAYLOR\n",
            "177, Jack, Livingston, JLIVINGS\n",
            "178, Kimberely, Grant, KGRANT\n",
            "179, Charles, Johnson, CJOHNSON\n",
            "180, Winston, Taylor, WTAYLOR\n",
            "181, Jean, Fleaur, JFLEAUR\n",
            "182, Martha, Sullivan, MSULLIVA\n",
            "183, Girard, Geoni, GGEONI\n",
            "184, Nandita, Sarchand, NSARCHAN\n",
            "185, Alexis, Bull, ABULL\n",
            "186, Julia, Dellinger, JDELLING\n",
            "187, Anthony, Cabrio, ACABRIO\n",
            "188, Kelly, Chung, KCHUNG\n",
            "189, Jennifer, Dilly, JDILLY\n",
            "190, Timothy, Gates, TGATES\n",
            "191, Randall, Perkins, RPERKINS\n",
            "192, Sarah, Bell, SBELL\n",
            "193, Britney, Everett, BEVERETT\n",
            "194, Samuel, McCain, SMCCAIN\n",
            "195, Vance, Jones, VJONES\n",
            "196, Alana, Walsh, AWALSH\n",
            "197, Kevin, Feeney, KFEENEY\n",
            "198, Donald, OConnell, DOCONNEL\n",
            "199, Douglas, Grant, DGRANT\n",
            "200, Jennifer, Whalen, JWHALEN\n",
            "201, Michael, Hartstein, MHARTSTE\n",
            "202, Pat, Fay, PFAY\n",
            "203, Susan, Mavris, SMAVRIS\n",
            "204, Hermann, Baer, HBAER\n",
            "205, Shelley, Higgins, SHIGGINS\n",
            "206, William, Gietz, WGIETZ\n"
          ]
        }
      ],
      "source": [
        "# Menampilkan dari indeks awal 0 dari 3 indeks\n",
        "read_file('employees.csv', 0, 3)"
      ]
    },
    {
      "cell_type": "code",
      "execution_count": null,
      "metadata": {
        "id": "qy6DdPHSaIq0",
        "colab": {
          "base_uri": "https://localhost:8080/"
        },
        "outputId": "f4d29114-f1e0-4411-d25d-3d98c54e775e"
      },
      "outputs": [
        {
          "output_type": "stream",
          "name": "stdout",
          "text": [
            "Column names:\n",
            "employee_id, first_name, last_name, email, phone_number, hire_date, job_id, salary, commission_pct, manager_id, department_id\n",
            "100, Steven, King, SKING, 515.123.4567, 2003-06-17, AD_PRES, 24000, NULL, NULL, 90\n",
            "101, Neena, Kochhar, NKOCHHAR, 515.123.4568, 2005-09-21, AD_VP, 17000, NULL, 100, 90\n",
            "102, Lex, 'De Haan', LDEHAAN, 515.123.4569, 2001-01-13, AD_VP, 17000, NULL, 100, 90\n",
            "103, Alexander, Hunold, AHUNOLD, 590.423.4567, 2006-01-03, IT_PROG, 9000, NULL, 102, 60\n",
            "104, Bruce, Ernst, BERNST, 590.423.4568, 2007-05-21, IT_PROG, 6000, NULL, 103, 60\n",
            "105, David, Austin, DAUSTIN, 590.423.4569, 2005-06-25, IT_PROG, 4800, NULL, 103, 60\n",
            "106, Valli, Pataballa, VPATABAL, 590.423.4560, 2006-02-05, IT_PROG, 4800, NULL, 103, 60\n",
            "107, Diana, Lorentz, DLORENTZ, 590.423.5567, 2007-02-07, IT_PROG, 4200, NULL, 103, 60\n",
            "108, Nancy, Greenberg, NGREENBE, 515.124.4569, 2002-08-17, FI_MGR, 12008, NULL, 101, 100\n",
            "109, Daniel, Faviet, DFAVIET, 515.124.4169, 2002-08-16, FI_ACCOUNT, 9000, NULL, 108, 100\n",
            "110, John, Chen, JCHEN, 515.124.4269, 2005-09-28, FI_ACCOUNT, 8200, NULL, 108, 100\n",
            "111, Ismael, Sciarra, ISCIARRA, 515.124.4369, 2005-09-30, FI_ACCOUNT, 7700, NULL, 108, 100\n",
            "112, 'Jose Manuel', Urman, JMURMAN, 515.124.4469, 2006-03-07, FI_ACCOUNT, 7800, NULL, 108, 100\n",
            "113, Luis, Popp, LPOPP, 515.124.4567, 2007-12-07, FI_ACCOUNT, 6900, NULL, 108, 100\n",
            "114, Den, Raphaely, DRAPHEAL, 515.127.4561, 2002-12-07, PU_MAN, 11000, NULL, 100, 30\n",
            "115, Alexander, Khoo, AKHOO, 515.127.4562, 2003-05-18, PU_CLERK, 3100, NULL, 114, 30\n",
            "116, Shelli, Baida, SBAIDA, 515.127.4563, 2005-12-24, PU_CLERK, 2900, NULL, 114, 30\n",
            "117, Sigal, Tobias, STOBIAS, 515.127.4564, 2005-07-24, PU_CLERK, 2800, NULL, 114, 30\n",
            "118, Guy, Himuro, GHIMURO, 515.127.4565, 2006-11-15, PU_CLERK, 2600, NULL, 114, 30\n",
            "119, Karen, Colmenares, KCOLMENA, 515.127.4566, 2007-08-10, PU_CLERK, 2500, NULL, 114, 30\n",
            "120, Matthew, Weiss, MWEISS, 650.123.1234, 2004-07-18, ST_MAN, 8000, NULL, 100, 50\n",
            "121, Adam, Fripp, AFRIPP, 650.123.2234, 2005-04-10, ST_MAN, 8200, NULL, 100, 50\n",
            "122, Payam, Kaufling, PKAUFLIN, 650.123.3234, 2003-05-01, ST_MAN, 7900, NULL, 100, 50\n",
            "123, Shanta, Vollman, SVOLLMAN, 650.123.4234, 2005-10-10, ST_MAN, 6500, NULL, 100, 50\n",
            "124, Kevin, Mourgos, KMOURGOS, 650.123.5234, 2007-11-16, ST_MAN, 5800, NULL, 100, 50\n",
            "125, Julia, Nayer, JNAYER, 650.124.1214, 2005-07-16, ST_CLERK, 3200, NULL, 120, 50\n",
            "126, Irene, Mikkilineni, IMIKKILI, 650.124.1224, 2006-09-28, ST_CLERK, 2700, NULL, 120, 50\n",
            "127, James, Landry, JLANDRY, 650.124.1334, 2007-01-14, ST_CLERK, 2400, NULL, 120, 50\n",
            "128, Steven, Markle, SMARKLE, 650.124.1434, 2008-03-08, ST_CLERK, 2200, NULL, 120, 50\n",
            "129, Laura, Bissot, LBISSOT, 650.124.5234, 2005-08-20, ST_CLERK, 3300, NULL, 121, 50\n",
            "130, Mozhe, Atkinson, MATKINSO, 650.124.6234, 2005-10-30, ST_CLERK, 2800, NULL, 121, 50\n",
            "131, James, Marlow, JAMRLOW, 650.124.7234, 2005-02-16, ST_CLERK, 2500, NULL, 121, 50\n",
            "132, TJ, Olson, TJOLSON, 650.124.8234, 2007-04-10, ST_CLERK, 2100, NULL, 121, 50\n",
            "133, Jason, Mallin, JMALLIN, 650.127.1934, 2004-06-14, ST_CLERK, 3300, NULL, 122, 50\n",
            "134, Michael, Rogers, MROGERS, 650.127.1834, 2006-08-26, ST_CLERK, 2900, NULL, 122, 50\n",
            "135, Ki, Gee, KGEE, 650.127.1734, 2007-12-12, ST_CLERK, 2400, NULL, 122, 50\n",
            "136, Hazel, Philtanker, HPHILTAN, 650.127.1634, 2008-02-06, ST_CLERK, 2200, NULL, 122, 50\n",
            "137, Renske, Ladwig, RLADWIG, 650.121.1234, 2003-07-14, ST_CLERK, 3600, NULL, 123, 50\n",
            "138, Stephen, Stiles, SSTILES, 650.121.2034, 2005-10-26, ST_CLERK, 3200, NULL, 123, 50\n",
            "139, John, Seo, JSEO, 650.121.2019, 2006-02-12, ST_CLERK, 2700, NULL, 123, 50\n",
            "140, Joshua, Patel, JPATEL, 650.121.1834, 2006-04-06, ST_CLERK, 2500, NULL, 123, 50\n",
            "141, Trenna, Rajs, TRAJS, 650.121.8009, 2003-10-17, ST_CLERK, 3500, NULL, 124, 50\n",
            "142, Curtis, Davies, CDAVIES, 650.121.2994, 2005-01-29, ST_CLERK, 3100, NULL, 124, 50\n",
            "143, Randall, Matos, RMATOS, 650.121.2874, 2006-03-15, ST_CLERK, 2600, NULL, 124, 50\n",
            "144, Peter, Vargas, PVARGAS, 650.121.2004, 2006-07-09, ST_CLERK, 2500, NULL, 124, 50\n",
            "145, John, Russell, JRUSSEL, 011.44.1344.429268, 2004-10-01, SA_MAN, 14000, 0.4, 100, 80\n",
            "146, Karen, Partners, KPARTNER, 011.44.1344.467268, 2005-01-05, SA_MAN, 13500, 0.3, 100, 80\n",
            "147, Alberto, Errazuriz, AERRAZUR, 011.44.1344.429278, 2005-03-10, SA_MAN, 12000, 0.3, 100, 80\n",
            "148, Gerald, Cambrault, GCAMBRAU, 011.44.1344.619268, 2007-10-15, SA_MAN, 11000, 0.3, 100, 80\n",
            "149, Eleni, Zlotkey, EZLOTKEY, 011.44.1344.429018, 2008-01-29, SA_MAN, 10500, 0.2, 100, 80\n",
            "150, Peter, Tucker, PTUCKER, 011.44.1344.129268, 2005-01-30, SA_REP, 10000, 0.3, 145, 80\n",
            "151, David, Bernstein, DBERNSTE, 011.44.1344.345268, 2005-03-24, SA_REP, 9500, 0.25, 145, 80\n",
            "152, Peter, Hall, PHALL, 011.44.1344.478968, 2005-08-20, SA_REP, 9000, 0.25, 145, 80\n",
            "153, Christopher, Olsen, COLSEN, 011.44.1344.498718, 2006-03-30, SA_REP, 8000, 0.2, 145, 80\n",
            "154, Nanette, Cambrault, NCAMBRAU, 011.44.1344.987668, 2006-12-09, SA_REP, 7500, 0.2, 145, 80\n",
            "155, Oliver, Tuvault, OTUVAULT, 011.44.1344.486508, 2007-11-23, SA_REP, 7000, 0.15, 145, 80\n",
            "156, Janette, King, JKING, 011.44.1345.429268, 2004-01-30, SA_REP, 10000, 0.35, 146, 80\n",
            "157, Patrick, Sully, PSULLY, 011.44.1345.929268, 2004-03-04, SA_REP, 9500, 0.35, 146, 80\n",
            "158, Allan, McEwen, AMCEWEN, 011.44.1345.829268, 2004-08-01, SA_REP, 9000, 0.35, 146, 80\n",
            "159, Lindsey, Smith, LSMITH, 011.44.1345.729268, 2005-03-10, SA_REP, 8000, 0.3, 146, 80\n",
            "160, Louise, Doran, LDORAN, 011.44.1345.629268, 2005-12-15, SA_REP, 7500, 0.3, 146, 80\n",
            "161, Sarath, Sewall, SSEWALL, 011.44.1345.529268, 2006-11-03, SA_REP, 7000, 0.25, 146, 80\n",
            "162, Clara, Vishney, CVISHNEY, 011.44.1346.129268, 2005-11-11, SA_REP, 10500, 0.25, 147, 80\n",
            "163, Danielle, Greene, DGREENE, 011.44.1346.229268, 2007-03-19, SA_REP, 9500, 0.15, 147, 80\n",
            "164, Mattea, Marvins, MMARVINS, 011.44.1346.329268, 2008-01-24, SA_REP, 7200, 0.1, 147, 80\n",
            "165, David, Lee, DLEE, 011.44.1346.529268, 2008-02-23, SA_REP, 6800, 0.1, 147, 80\n",
            "166, Sundar, Ande, SANDE, 011.44.1346.629268, 2008-03-24, SA_REP, 6400, 0.1, 147, 80\n",
            "167, Amit, Banda, ABANDA, 011.44.1346.729268, 2008-04-21, SA_REP, 6200, 0.1, 147, 80\n",
            "168, Lisa, Ozer, LOZER, 011.44.1343.929268, 2005-03-11, SA_REP, 11500, 0.25, 148, 80\n",
            "169, Harrison, Bloom, HBLOOM, 011.44.1343.829268, 2006-03-23, SA_REP, 10000, 0.2, 148, 80\n",
            "170, Tayler, Fox, TFOX, 011.44.1343.729268, 2006-01-24, SA_REP, 9600, 0.2, 148, 80\n",
            "171, William, Smith, WSMITH, 011.44.1343.629268, 2007-02-23, SA_REP, 7400, 0.15, 148, 80\n",
            "172, Elizabeth, Bates, EBATES, 011.44.1343.529268, 2007-03-24, SA_REP, 7300, 0.15, 148, 80\n",
            "173, Sundita, Kumar, SKUMAR, 011.44.1343.329268, 2008-04-21, SA_REP, 6100, 0.1, 148, 80\n",
            "174, Ellen, Abel, EABEL, 011.44.1644.429267, 2004-05-11, SA_REP, 11000, 0.3, 149, 80\n",
            "175, Alyssa, Hutton, AHUTTON, 011.44.1644.429266, 2005-03-19, SA_REP, 8800, 0.25, 149, 80\n",
            "176, Jonathon, Taylor, JTAYLOR, 011.44.1644.429265, 2006-03-24, SA_REP, 8600, 0.2, 149, 80\n",
            "177, Jack, Livingston, JLIVINGS, 011.44.1644.429264, 2006-04-23, SA_REP, 8400, 0.2, 149, 80\n",
            "178, Kimberely, Grant, KGRANT, 011.44.1644.429263, 2007-05-24, SA_REP, 7000, 0.15, 149, NULL\n",
            "179, Charles, Johnson, CJOHNSON, 011.44.1644.429262, 2008-01-04, SA_REP, 6200, 0.1, 149, 80\n",
            "180, Winston, Taylor, WTAYLOR, 650.507.9876, 2006-01-24, SH_CLERK, 3200, NULL, 120, 50\n",
            "181, Jean, Fleaur, JFLEAUR, 650.507.9877, 2006-02-23, SH_CLERK, 3100, NULL, 120, 50\n",
            "182, Martha, Sullivan, MSULLIVA, 650.507.9878, 2007-06-21, SH_CLERK, 2500, NULL, 120, 50\n",
            "183, Girard, Geoni, GGEONI, 650.507.9879, 2008-02-03, SH_CLERK, 2800, NULL, 120, 50\n",
            "184, Nandita, Sarchand, NSARCHAN, 650.509.1876, 2004-01-27, SH_CLERK, 4200, NULL, 121, 50\n",
            "185, Alexis, Bull, ABULL, 650.509.2876, 2005-02-20, SH_CLERK, 4100, NULL, 121, 50\n",
            "186, Julia, Dellinger, JDELLING, 650.509.3876, 2006-06-24, SH_CLERK, 3400, NULL, 121, 50\n",
            "187, Anthony, Cabrio, ACABRIO, 650.509.4876, 2007-02-07, SH_CLERK, 3000, NULL, 121, 50\n",
            "188, Kelly, Chung, KCHUNG, 650.505.1876, 2005-06-14, SH_CLERK, 3800, NULL, 122, 50\n",
            "189, Jennifer, Dilly, JDILLY, 650.505.2876, 2005-08-13, SH_CLERK, 3600, NULL, 122, 50\n",
            "190, Timothy, Gates, TGATES, 650.505.3876, 2006-07-11, SH_CLERK, 2900, NULL, 122, 50\n",
            "191, Randall, Perkins, RPERKINS, 650.505.4876, 2007-12-19, SH_CLERK, 2500, NULL, 122, 50\n",
            "192, Sarah, Bell, SBELL, 650.501.1876, 2004-02-04, SH_CLERK, 4000, NULL, 123, 50\n",
            "193, Britney, Everett, BEVERETT, 650.501.2876, 2005-03-03, SH_CLERK, 3900, NULL, 123, 50\n",
            "194, Samuel, McCain, SMCCAIN, 650.501.3876, 2006-07-01, SH_CLERK, 3200, NULL, 123, 50\n",
            "195, Vance, Jones, VJONES, 650.501.4876, 2007-03-17, SH_CLERK, 2800, NULL, 123, 50\n",
            "196, Alana, Walsh, AWALSH, 650.507.9811, 2006-04-24, SH_CLERK, 3100, NULL, 124, 50\n",
            "197, Kevin, Feeney, KFEENEY, 650.507.9822, 2006-05-23, SH_CLERK, 3000, NULL, 124, 50\n",
            "198, Donald, OConnell, DOCONNEL, 650.507.9833, 2007-06-21, SH_CLERK, 2600, NULL, 124, 50\n",
            "199, Douglas, Grant, DGRANT, 650.507.9844, 2008-01-13, SH_CLERK, 2600, NULL, 124, 50\n",
            "200, Jennifer, Whalen, JWHALEN, 515.123.4444, 2003-09-17, AD_ASST, 4400, NULL, 101, 10\n",
            "201, Michael, Hartstein, MHARTSTE, 515.123.5555, 2004-02-17, MK_MAN, 13000, NULL, 100, 20\n",
            "202, Pat, Fay, PFAY, 603.123.6666, 2005-08-17, MK_REP, 6000, NULL, 201, 20\n",
            "203, Susan, Mavris, SMAVRIS, 515.123.7777, 2002-06-07, HR_REP, 6500, NULL, 101, 40\n",
            "204, Hermann, Baer, HBAER, 515.123.8888, 2002-06-07, PR_REP, 10000, NULL, 101, 70\n",
            "205, Shelley, Higgins, SHIGGINS, 515.123.8080, 2002-06-07, AC_MGR, 12008, NULL, 101, 110\n",
            "206, William, Gietz, WGIETZ, 515.123.8181, 2002-06-07, AC_ACCOUNT, 8300, NULL, 205, 110\n"
          ]
        }
      ],
      "source": [
        "# Menampilkan dari indeks awal 0 sampai akhir\n",
        "read_file('employees.csv', 0)"
      ]
    },
    {
      "cell_type": "code",
      "execution_count": null,
      "metadata": {
        "id": "k5hjZA7hbF81",
        "colab": {
          "base_uri": "https://localhost:8080/"
        },
        "outputId": "3c5605d5-3823-47ec-9322-2717395e863c"
      },
      "outputs": [
        {
          "output_type": "stream",
          "name": "stdout",
          "text": [
            "Column names:\n",
            "email, phone_number, hire_date\n",
            "SKING, 515.123.4567, 2003-06-17\n",
            "NKOCHHAR, 515.123.4568, 2005-09-21\n",
            "LDEHAAN, 515.123.4569, 2001-01-13\n",
            "AHUNOLD, 590.423.4567, 2006-01-03\n",
            "BERNST, 590.423.4568, 2007-05-21\n",
            "DAUSTIN, 590.423.4569, 2005-06-25\n",
            "VPATABAL, 590.423.4560, 2006-02-05\n",
            "DLORENTZ, 590.423.5567, 2007-02-07\n",
            "NGREENBE, 515.124.4569, 2002-08-17\n",
            "DFAVIET, 515.124.4169, 2002-08-16\n",
            "JCHEN, 515.124.4269, 2005-09-28\n",
            "ISCIARRA, 515.124.4369, 2005-09-30\n",
            "JMURMAN, 515.124.4469, 2006-03-07\n",
            "LPOPP, 515.124.4567, 2007-12-07\n",
            "DRAPHEAL, 515.127.4561, 2002-12-07\n",
            "AKHOO, 515.127.4562, 2003-05-18\n",
            "SBAIDA, 515.127.4563, 2005-12-24\n",
            "STOBIAS, 515.127.4564, 2005-07-24\n",
            "GHIMURO, 515.127.4565, 2006-11-15\n",
            "KCOLMENA, 515.127.4566, 2007-08-10\n",
            "MWEISS, 650.123.1234, 2004-07-18\n",
            "AFRIPP, 650.123.2234, 2005-04-10\n",
            "PKAUFLIN, 650.123.3234, 2003-05-01\n",
            "SVOLLMAN, 650.123.4234, 2005-10-10\n",
            "KMOURGOS, 650.123.5234, 2007-11-16\n",
            "JNAYER, 650.124.1214, 2005-07-16\n",
            "IMIKKILI, 650.124.1224, 2006-09-28\n",
            "JLANDRY, 650.124.1334, 2007-01-14\n",
            "SMARKLE, 650.124.1434, 2008-03-08\n",
            "LBISSOT, 650.124.5234, 2005-08-20\n",
            "MATKINSO, 650.124.6234, 2005-10-30\n",
            "JAMRLOW, 650.124.7234, 2005-02-16\n",
            "TJOLSON, 650.124.8234, 2007-04-10\n",
            "JMALLIN, 650.127.1934, 2004-06-14\n",
            "MROGERS, 650.127.1834, 2006-08-26\n",
            "KGEE, 650.127.1734, 2007-12-12\n",
            "HPHILTAN, 650.127.1634, 2008-02-06\n",
            "RLADWIG, 650.121.1234, 2003-07-14\n",
            "SSTILES, 650.121.2034, 2005-10-26\n",
            "JSEO, 650.121.2019, 2006-02-12\n",
            "JPATEL, 650.121.1834, 2006-04-06\n",
            "TRAJS, 650.121.8009, 2003-10-17\n",
            "CDAVIES, 650.121.2994, 2005-01-29\n",
            "RMATOS, 650.121.2874, 2006-03-15\n",
            "PVARGAS, 650.121.2004, 2006-07-09\n",
            "JRUSSEL, 011.44.1344.429268, 2004-10-01\n",
            "KPARTNER, 011.44.1344.467268, 2005-01-05\n",
            "AERRAZUR, 011.44.1344.429278, 2005-03-10\n",
            "GCAMBRAU, 011.44.1344.619268, 2007-10-15\n",
            "EZLOTKEY, 011.44.1344.429018, 2008-01-29\n",
            "PTUCKER, 011.44.1344.129268, 2005-01-30\n",
            "DBERNSTE, 011.44.1344.345268, 2005-03-24\n",
            "PHALL, 011.44.1344.478968, 2005-08-20\n",
            "COLSEN, 011.44.1344.498718, 2006-03-30\n",
            "NCAMBRAU, 011.44.1344.987668, 2006-12-09\n",
            "OTUVAULT, 011.44.1344.486508, 2007-11-23\n",
            "JKING, 011.44.1345.429268, 2004-01-30\n",
            "PSULLY, 011.44.1345.929268, 2004-03-04\n",
            "AMCEWEN, 011.44.1345.829268, 2004-08-01\n",
            "LSMITH, 011.44.1345.729268, 2005-03-10\n",
            "LDORAN, 011.44.1345.629268, 2005-12-15\n",
            "SSEWALL, 011.44.1345.529268, 2006-11-03\n",
            "CVISHNEY, 011.44.1346.129268, 2005-11-11\n",
            "DGREENE, 011.44.1346.229268, 2007-03-19\n",
            "MMARVINS, 011.44.1346.329268, 2008-01-24\n",
            "DLEE, 011.44.1346.529268, 2008-02-23\n",
            "SANDE, 011.44.1346.629268, 2008-03-24\n",
            "ABANDA, 011.44.1346.729268, 2008-04-21\n",
            "LOZER, 011.44.1343.929268, 2005-03-11\n",
            "HBLOOM, 011.44.1343.829268, 2006-03-23\n",
            "TFOX, 011.44.1343.729268, 2006-01-24\n",
            "WSMITH, 011.44.1343.629268, 2007-02-23\n",
            "EBATES, 011.44.1343.529268, 2007-03-24\n",
            "SKUMAR, 011.44.1343.329268, 2008-04-21\n",
            "EABEL, 011.44.1644.429267, 2004-05-11\n",
            "AHUTTON, 011.44.1644.429266, 2005-03-19\n",
            "JTAYLOR, 011.44.1644.429265, 2006-03-24\n",
            "JLIVINGS, 011.44.1644.429264, 2006-04-23\n",
            "KGRANT, 011.44.1644.429263, 2007-05-24\n",
            "CJOHNSON, 011.44.1644.429262, 2008-01-04\n",
            "WTAYLOR, 650.507.9876, 2006-01-24\n",
            "JFLEAUR, 650.507.9877, 2006-02-23\n",
            "MSULLIVA, 650.507.9878, 2007-06-21\n",
            "GGEONI, 650.507.9879, 2008-02-03\n",
            "NSARCHAN, 650.509.1876, 2004-01-27\n",
            "ABULL, 650.509.2876, 2005-02-20\n",
            "JDELLING, 650.509.3876, 2006-06-24\n",
            "ACABRIO, 650.509.4876, 2007-02-07\n",
            "KCHUNG, 650.505.1876, 2005-06-14\n",
            "JDILLY, 650.505.2876, 2005-08-13\n",
            "TGATES, 650.505.3876, 2006-07-11\n",
            "RPERKINS, 650.505.4876, 2007-12-19\n",
            "SBELL, 650.501.1876, 2004-02-04\n",
            "BEVERETT, 650.501.2876, 2005-03-03\n",
            "SMCCAIN, 650.501.3876, 2006-07-01\n",
            "VJONES, 650.501.4876, 2007-03-17\n",
            "AWALSH, 650.507.9811, 2006-04-24\n",
            "KFEENEY, 650.507.9822, 2006-05-23\n",
            "DOCONNEL, 650.507.9833, 2007-06-21\n",
            "DGRANT, 650.507.9844, 2008-01-13\n",
            "JWHALEN, 515.123.4444, 2003-09-17\n",
            "MHARTSTE, 515.123.5555, 2004-02-17\n",
            "PFAY, 603.123.6666, 2005-08-17\n",
            "SMAVRIS, 515.123.7777, 2002-06-07\n",
            "HBAER, 515.123.8888, 2002-06-07\n",
            "SHIGGINS, 515.123.8080, 2002-06-07\n",
            "WGIETZ, 515.123.8181, 2002-06-07\n"
          ]
        }
      ],
      "source": [
        "# Menampilkan dari indeks awal 3 dari 5 indeks\n",
        "read_file('employees.csv', 3, 5)"
      ]
    },
    {
      "cell_type": "markdown",
      "metadata": {
        "id": "kub_OimmhmEb"
      },
      "source": [
        "**Instruksi 3:** Definisikan ulang procedure `read_file` untuk membaca file CSV dengan **jumlah baris yang dapat dibatasi**.\n",
        "\n",
        "Diperlukan sebanyak 4 parameter/argumen sebagai berikut:\n",
        "1.   `csv_file_name`: Nama File CSV\n",
        "2.   `column_start`: Indeks kolom awal\n",
        "3.   `column_end`: Indeks kolom akhir\n",
        "4.   `limit`: Nilai batas jumlah baris, dimulai dari baris pertama\n"
      ]
    },
    {
      "cell_type": "code",
      "execution_count": null,
      "metadata": {
        "id": "oDw-8PMuiX09"
      },
      "outputs": [],
      "source": [
        "def read_file(csv_file_name, column_start=0, column_end=None, limit=None):\n",
        "  with open(csv_path + csv_file_name, mode='r') as csv_file:\n",
        "    csv_reader = csv.reader(csv_file, delimiter=',')\n",
        "    line_count = 0\n",
        "    for row in csv_reader:\n",
        "      if line_count == 0:\n",
        "        print(f'Column names:')\n",
        "      if line_count == limit+1:\n",
        "        break\n",
        "      if column_end is None:\n",
        "        column_end = len(row)\n",
        "      selected_columns = row[column_start:column_end+1]\n",
        "      print(\", \".join(selected_columns))\n",
        "      line_count += 1\n",
        "  csv_file.close()\n",
        "# tambahkan kode sesuai instruksi di sini"
      ]
    },
    {
      "cell_type": "markdown",
      "metadata": {
        "id": "-NfGrNpFpYqV"
      },
      "source": [
        "Memanggil procedure `read_file` untuk membaca file `employees.csv`, mulai dari indeks awal 3 dari 5 indeks, sebanyak 10 baris."
      ]
    },
    {
      "cell_type": "code",
      "execution_count": null,
      "metadata": {
        "id": "x3YA5ZfFnYIU",
        "colab": {
          "base_uri": "https://localhost:8080/"
        },
        "outputId": "d54bdaf0-5b1d-4761-d566-5a20b25b6e9b"
      },
      "outputs": [
        {
          "output_type": "stream",
          "name": "stdout",
          "text": [
            "Column names:\n",
            "email, phone_number, hire_date\n",
            "SKING, 515.123.4567, 2003-06-17\n",
            "NKOCHHAR, 515.123.4568, 2005-09-21\n",
            "LDEHAAN, 515.123.4569, 2001-01-13\n",
            "AHUNOLD, 590.423.4567, 2006-01-03\n",
            "BERNST, 590.423.4568, 2007-05-21\n",
            "DAUSTIN, 590.423.4569, 2005-06-25\n",
            "VPATABAL, 590.423.4560, 2006-02-05\n",
            "DLORENTZ, 590.423.5567, 2007-02-07\n",
            "NGREENBE, 515.124.4569, 2002-08-17\n",
            "DFAVIET, 515.124.4169, 2002-08-16\n"
          ]
        }
      ],
      "source": [
        "read_file('employees.csv', 3, 5, 10)"
      ]
    },
    {
      "cell_type": "markdown",
      "metadata": {
        "id": "RO8QFMSy65el"
      },
      "source": [
        "**Instruksi 4:** Definisikan ulang procedure `read_file` untuk membaca file CSV dengan **sortir pada kolom pertama**.\n",
        "\n",
        "Diperlukan sebanyak 4 parameter/argumen sebagai berikut:\n",
        "1.   `csv_file_name`: Nama File CSV\n",
        "2.   `column_start`: Indeks kolom awal\n",
        "3.   `column_end`: Indeks kolom akhir\n",
        "4.   `limit`: Nilai batas jumlah baris, dimulai dari baris pertama\n",
        "5.   `sort`: Sortir berdasarkan kolom pertama terpilih, dengan urutan Ascending (1), Descending (-1), dan Default (0) atau tanpa parameter."
      ]
    },
    {
      "cell_type": "code",
      "execution_count": null,
      "metadata": {
        "id": "758gC0c3rROR"
      },
      "outputs": [],
      "source": [
        "def read_file(csv_file_name, column_start=0, column_end=None, limit=None, sort=0):\n",
        " with open(csv_path + csv_file_name, mode='r') as csv_file:\n",
        "        csv_reader = csv.reader(csv_file, delimiter=',')\n",
        "        line_count = 0\n",
        "        data = []\n",
        "\n",
        "        for row in csv_reader:\n",
        "            if line_count == 0:\n",
        "                print(f'Column names:')\n",
        "            if line_count == limit + 1:\n",
        "                break\n",
        "            if column_end is None:\n",
        "                column_end = len(row)\n",
        "\n",
        "            selected_columns = row[column_start:column_end+1]\n",
        "            data.append(selected_columns)\n",
        "\n",
        "            line_count += 1\n",
        "\n",
        "        if sort == 1:\n",
        "            data.sort(key=lambda x: x[0])\n",
        "        elif sort == -1:\n",
        "            data.sort(key=lambda x: x[0], reverse=True)\n",
        "\n",
        "        for row in data:\n",
        "            print(\", \".join(row))\n",
        "\n",
        "        print(f'Processed {line_count} lines.')\n",
        "\n",
        " csv_file.close()\n",
        "# tambahkan kode sesuai instruksi di sini"
      ]
    },
    {
      "cell_type": "markdown",
      "metadata": {
        "id": "ojMu29E-9TFg"
      },
      "source": [
        "Memanggil procedure `read_file` untuk membaca file `employees.csv` dengan **sortir berdasarkan kolom pertama**."
      ]
    },
    {
      "cell_type": "code",
      "execution_count": null,
      "metadata": {
        "id": "L3BSZ2pBr4PV",
        "colab": {
          "base_uri": "https://localhost:8080/"
        },
        "outputId": "e7484c21-1c8d-435d-ee04-aa8e8d8207db"
      },
      "outputs": [
        {
          "output_type": "stream",
          "name": "stdout",
          "text": [
            "Column names:\n",
            "email, phone_number, hire_date\n",
            "VPATABAL, 590.423.4560, 2006-02-05\n",
            "SKING, 515.123.4567, 2003-06-17\n",
            "NKOCHHAR, 515.123.4568, 2005-09-21\n",
            "NGREENBE, 515.124.4569, 2002-08-17\n",
            "LDEHAAN, 515.123.4569, 2001-01-13\n",
            "DLORENTZ, 590.423.5567, 2007-02-07\n",
            "DFAVIET, 515.124.4169, 2002-08-16\n",
            "DAUSTIN, 590.423.4569, 2005-06-25\n",
            "BERNST, 590.423.4568, 2007-05-21\n",
            "AHUNOLD, 590.423.4567, 2006-01-03\n",
            "Processed 11 lines.\n"
          ]
        }
      ],
      "source": [
        "# Sorted by `email` in descending order\n",
        "read_file('employees.csv', 3, 5, 10, -1)"
      ]
    },
    {
      "cell_type": "code",
      "execution_count": null,
      "metadata": {
        "id": "0tucBiBP67Sc",
        "colab": {
          "base_uri": "https://localhost:8080/"
        },
        "outputId": "2b62884f-a19a-4ce1-a612-c0dc1c1592e2"
      },
      "outputs": [
        {
          "output_type": "stream",
          "name": "stdout",
          "text": [
            "Column names:\n",
            "AHUNOLD, 590.423.4567, 2006-01-03\n",
            "BERNST, 590.423.4568, 2007-05-21\n",
            "DAUSTIN, 590.423.4569, 2005-06-25\n",
            "DFAVIET, 515.124.4169, 2002-08-16\n",
            "DLORENTZ, 590.423.5567, 2007-02-07\n",
            "LDEHAAN, 515.123.4569, 2001-01-13\n",
            "NGREENBE, 515.124.4569, 2002-08-17\n",
            "NKOCHHAR, 515.123.4568, 2005-09-21\n",
            "SKING, 515.123.4567, 2003-06-17\n",
            "VPATABAL, 590.423.4560, 2006-02-05\n",
            "email, phone_number, hire_date\n",
            "Processed 11 lines.\n"
          ]
        }
      ],
      "source": [
        "# Sorted by `email` in ascending order\n",
        "read_file('employees.csv', 3, 5, 10, 1)"
      ]
    },
    {
      "cell_type": "markdown",
      "metadata": {
        "id": "IMT8hq65duDl"
      },
      "source": [
        "# Procedure Find File\n",
        "**Instruksi 5:** Definisikan procedure `find_file` untuk **mencari dan menampilkan data terpilih berdasarkan kata kunci**.\n",
        "\n",
        "1.   `csv_file_name`: Nama File CSV\n",
        "2.   `index_column`: Indeks kolom yang dijadikan acuan untuk pencarian\n",
        "3.   `keyword`: Kata kunci pencarian"
      ]
    },
    {
      "cell_type": "code",
      "execution_count": null,
      "metadata": {
        "id": "I6AZoUsS1blM"
      },
      "outputs": [],
      "source": [
        "def find_file(csv_file_name, index_column, keyword):\n",
        "  with open(csv_path + csv_file_name, mode='r') as csv_file:\n",
        "    csv_reader = csv.reader(csv_file, delimiter=',')\n",
        "    line_count = 0\n",
        "    found = False\n",
        "\n",
        "    for row in csv_reader:\n",
        "      if line_count == 0:\n",
        "        print(f'Column names:')\n",
        "\n",
        "      if keyword == row[index_column]:\n",
        "        print(\", \".join(row))\n",
        "        found = True\n",
        "        break\n",
        "\n",
        "      line_count += 1\n",
        "\n",
        "    if not found:\n",
        "        print(f'No data found with the given keyword.')\n",
        "\n",
        "    csv_file.close()\n",
        "# tambahkan kode sesuai instruksi di sini"
      ]
    },
    {
      "cell_type": "markdown",
      "metadata": {
        "id": "OHm8NArpffUj"
      },
      "source": [
        "**Instruksi 6:** Gunakan procedure `find_file` dengan parameter/argumen sebagai berikut:\n",
        "\n",
        "1.   `csv_file_name`: `'employees.csv'`\n",
        "2.   `index_column`: `5`\n",
        "3.   `keyword`: `'2004'`\n",
        "\n"
      ]
    },
    {
      "cell_type": "code",
      "execution_count": null,
      "metadata": {
        "id": "n4InIUfi3cGa",
        "colab": {
          "base_uri": "https://localhost:8080/"
        },
        "outputId": "ecb523cd-fa32-4a87-c7e2-c4979d65f5f1"
      },
      "outputs": [
        {
          "output_type": "stream",
          "name": "stdout",
          "text": [
            "Column names:\n",
            "No data found with the given keyword.\n"
          ]
        }
      ],
      "source": [
        "find_file('employees.csv', 5, '2004')\n",
        "# tuliskan kode sesuai instruksi di sini"
      ]
    },
    {
      "cell_type": "markdown",
      "metadata": {
        "id": "e2NLT66Igcne"
      },
      "source": [
        "**Instruksi 7:** Gunakan procedure `find_file` dengan parameter/argumen sebagai berikut:\n",
        "\n",
        "1.   `csv_file_name`: `'employees.csv'`\n",
        "2.   `index_column`: `6`\n",
        "3.   `keyword`: `'SA_REP'`\n",
        "\n"
      ]
    },
    {
      "cell_type": "code",
      "execution_count": null,
      "metadata": {
        "id": "eCsHeXhPgYPu",
        "colab": {
          "base_uri": "https://localhost:8080/"
        },
        "outputId": "6cfc2341-cf21-4eb1-f373-9ceaa2936f32"
      },
      "outputs": [
        {
          "output_type": "stream",
          "name": "stdout",
          "text": [
            "Column names:\n",
            "150, Peter, Tucker, PTUCKER, 011.44.1344.129268, 2005-01-30, SA_REP, 10000, 0.3, 145, 80\n"
          ]
        }
      ],
      "source": [
        "find_file('employees.csv', 6, 'SA_REP')\n",
        "# tuliskan kode sesuai instruksi di sini"
      ]
    },
    {
      "cell_type": "markdown",
      "metadata": {
        "id": "JrPyIxt9beDm"
      },
      "source": [
        "# Procedure Insert File\n",
        "**Instruksi 8:** Definisikan procedure `insert_file` untuk menambahkan data baru pada posisi baris paling akhir.\n",
        "\n",
        "1.   `csv_file_name`: Nama File CSV\n",
        "2.   `list_data`: List yang berisikan satu baris data dan memiliki data sesuai dengan jumlah kolom pada File CSV terpilih"
      ]
    },
    {
      "cell_type": "code",
      "execution_count": null,
      "metadata": {
        "id": "llpF482gb_Bb"
      },
      "outputs": [],
      "source": [
        "def insert_file(csv_file_name, list_data):\n",
        "    with open(csv_path + csv_file_name, mode='a', newline='') as csv_file:\n",
        "        csv_writer = csv.writer(csv_file, delimiter=',')\n",
        "        csv_writer.writerow(list_data)\n",
        "\n",
        "    csv_file.close()\n",
        "# tuliskan kode sesuai instruksi di sini"
      ]
    },
    {
      "cell_type": "markdown",
      "metadata": {
        "id": "D3PubwAUdAxx"
      },
      "source": [
        "Memanggil procedure `insert_file` untuk menambahkan satu baris data pada file `countries.csv`."
      ]
    },
    {
      "cell_type": "code",
      "execution_count": null,
      "metadata": {
        "id": "rxBaSVyAmd4J"
      },
      "outputs": [],
      "source": [
        "insert_file('countries.csv', ['ID', 'Indonesia', 1])"
      ]
    },
    {
      "cell_type": "code",
      "execution_count": null,
      "metadata": {
        "id": "PGDhC3W8KNEJ"
      },
      "outputs": [],
      "source": [
        "insert_file('countries.csv', ['ZL', 'New Zealand', 1])"
      ]
    },
    {
      "cell_type": "code",
      "execution_count": null,
      "metadata": {
        "id": "McX6nMIfH3m8",
        "colab": {
          "base_uri": "https://localhost:8080/"
        },
        "outputId": "298c3e59-c7f4-4815-84aa-a03bd5469d6e"
      },
      "outputs": [
        {
          "output_type": "stream",
          "name": "stdout",
          "text": [
            "Column names:\n",
            "country_id, country_name, region_id\n",
            "AR, Argentina, 2\n",
            "AU, Australia, 3\n",
            "BE, Belgium, 1\n",
            "BR, Brazil, 2\n",
            "CA, Canada, 2\n",
            "CH, Switzerland, 1\n",
            "CN, China, 3\n",
            "DE, Germany, 1\n",
            "DK, Denmark, 1\n",
            "EG, Egypt, 4\n",
            "FR, France, 1\n",
            "IL, Israel, 4\n",
            "IN, India, 3\n",
            "IT, Italy, 1\n",
            "JP, Japan, 3\n",
            "KW, Kuwait, 4\n",
            "ML, Malaysia, 3\n",
            "MX, Mexico, 2\n",
            "NG, Nigeria, 4\n",
            "NL, Netherlands, 1\n",
            "SG, Singapore, 3\n",
            "UK, 'United Kingdom', 1\n",
            "US, 'United States of America', 2\n",
            "ZM, Zambia, 4\n",
            "ZW, Zimbabwe, 4\n",
            "ID, Indonesia, 1\n",
            "ZL, New Zealand, 1\n",
            "Processed 28 lines include header.\n"
          ]
        }
      ],
      "source": [
        "read_file('countries.csv')"
      ]
    },
    {
      "cell_type": "markdown",
      "metadata": {
        "id": "uyjBLSVVDMhL"
      },
      "source": [
        "# Procedure Update File\n",
        "**Instruksi 9:** Definisikan procedure `update_file` untuk **mengubah satu data yang telah ada, berdasarkan kolom paling pertama**.\n",
        "\n",
        "1.   `csv_file_name`: Nama File CSV\n",
        "2.   `keyword`: Kata kunci untuk menemukan baris yang akan diubah, hanya berdasarkan kolom paling pertama\n",
        "2.   `index_column`: Indeks kolom yang nilainya akan diubah, dimulai dari indeks 0\n",
        "3.   `new_value`: Nilai baru untuk mengubah nilai sebelumnya"
      ]
    },
    {
      "cell_type": "code",
      "execution_count": null,
      "metadata": {
        "id": "jwSoi0Wj5Wj2"
      },
      "outputs": [],
      "source": [
        "# Procedure update_file saves all row(s) first into list\n",
        "# It is more practical to manipulate data in list"
      ]
    },
    {
      "cell_type": "code",
      "execution_count": null,
      "metadata": {
        "id": "q0g6usWSHW63"
      },
      "outputs": [],
      "source": [
        "# Mengubah data dengan kolom pertama bernilai 'ID', indeks kolom ke-2, dengan nilai baru '3'\n",
        "update_file('countries.csv', 'ID', 2, 3)"
      ]
    },
    {
      "cell_type": "code",
      "execution_count": null,
      "metadata": {
        "id": "o-1SbwpbI7oH"
      },
      "outputs": [],
      "source": [
        "# Memeriksa hasil perubahan data\n",
        "read_file('countries.csv')"
      ]
    },
    {
      "cell_type": "code",
      "execution_count": null,
      "metadata": {
        "id": "Fd94i9DKJsFI"
      },
      "outputs": [],
      "source": [
        "# Mengubah data dengan kolom pertama bernilai 'ID', indeks kolom ke-1, dengan nilai baru 'Negara Kesatuan Republik Indonesia'\n",
        "update_file('countries.csv', 'ID', 1, 'Negara Kesatuan Republik Indonesia')"
      ]
    },
    {
      "cell_type": "code",
      "execution_count": 1,
      "metadata": {
        "id": "IJKg15AcJ__k",
        "colab": {
          "base_uri": "https://localhost:8080/",
          "height": 198
        },
        "outputId": "33c75e10-4389-47ff-9466-96d39df85206"
      },
      "outputs": [
        {
          "output_type": "error",
          "ename": "NameError",
          "evalue": "ignored",
          "traceback": [
            "\u001b[0;31m---------------------------------------------------------------------------\u001b[0m",
            "\u001b[0;31mNameError\u001b[0m                                 Traceback (most recent call last)",
            "\u001b[0;32m<ipython-input-1-1766cbcab9bf>\u001b[0m in \u001b[0;36m<cell line: 2>\u001b[0;34m()\u001b[0m\n\u001b[1;32m      1\u001b[0m \u001b[0;31m# Memeriksa hasil perubahan data\u001b[0m\u001b[0;34m\u001b[0m\u001b[0;34m\u001b[0m\u001b[0m\n\u001b[0;32m----> 2\u001b[0;31m \u001b[0mread_file\u001b[0m\u001b[0;34m(\u001b[0m\u001b[0;34m'countries.csv'\u001b[0m\u001b[0;34m)\u001b[0m\u001b[0;34m\u001b[0m\u001b[0;34m\u001b[0m\u001b[0m\n\u001b[0m",
            "\u001b[0;31mNameError\u001b[0m: name 'read_file' is not defined"
          ]
        }
      ],
      "source": [
        "# Memeriksa hasil perubahan data\n",
        "read_file('countries.csv')"
      ]
    },
    {
      "cell_type": "code",
      "execution_count": null,
      "metadata": {
        "id": "NDwu1cbgKci4"
      },
      "outputs": [],
      "source": [
        "# Mengubah data dengan kolom pertama bernilai 'ZL', indeks kolom ke-0, dengan nilai baru 'NZ'\n",
        "update_file('countries.csv', 'ZL', 0, 'NZ')"
      ]
    },
    {
      "cell_type": "code",
      "execution_count": null,
      "metadata": {
        "id": "YHv2_TB8K93R"
      },
      "outputs": [],
      "source": [
        "# Memeriksa hasil perubahan data\n",
        "read_file('countries.csv')"
      ]
    },
    {
      "cell_type": "markdown",
      "metadata": {
        "id": "Pn0P5P4iMZkd"
      },
      "source": [
        "# Procedure Delete File\n",
        "**Instruksi 10:** Definisikan procedure `delete_file` untuk **menghapus satu data yang telah ada, berdasarkan kolom paling pertama**.\n",
        "\n",
        "1.   `csv_file_name`: Nama File CSV\n",
        "2.   `keyword`: Kata kunci untuk menemukan baris yang akan dihapus, hanya berdasarkan kolom paling pertama"
      ]
    },
    {
      "cell_type": "code",
      "execution_count": null,
      "metadata": {
        "id": "YJDPWrHfMtqf"
      },
      "outputs": [],
      "source": [
        "# Procedure delete_file saves all row(s) first into list\n",
        "# It is more practical to manipulate data in list\n",
        "def delete_file(csv_file_name, keyword):\n",
        "  # tuliskan kode sesuai instruksi di sini"
      ]
    },
    {
      "cell_type": "code",
      "execution_count": null,
      "metadata": {
        "id": "KE7wqGaLNbgf"
      },
      "outputs": [],
      "source": [
        "# Menghapus data dengan kolom pertama bernilai 'NZ'\n",
        "delete_file('countries.csv', 'NZ')"
      ]
    },
    {
      "cell_type": "code",
      "execution_count": null,
      "metadata": {
        "id": "ASkwpnnjNXUm"
      },
      "outputs": [],
      "source": [
        "# Memeriksa hasil penghapusan data\n",
        "read_file('countries.csv')"
      ]
    }
  ],
  "metadata": {
    "colab": {
      "provenance": []
    },
    "kernelspec": {
      "display_name": "Python 3",
      "name": "python3"
    },
    "language_info": {
      "name": "python"
    }
  },
  "nbformat": 4,
  "nbformat_minor": 0
}